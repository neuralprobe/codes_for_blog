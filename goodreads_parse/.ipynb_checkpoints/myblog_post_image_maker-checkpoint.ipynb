{
 "cells": [
  {
   "cell_type": "code",
   "execution_count": 1,
   "id": "06dab0cf",
   "metadata": {},
   "outputs": [],
   "source": [
    "from PIL import Image\n",
    "import os.path as p\n",
    "\n",
    "def print_img_script(image_sizes, filename):\n",
    "    print('image:')\n",
    "    print('  path:  '+filename.split('.')[0]+'.'+filename.split('.')[1])\n",
    "    print('  srcset:')\n",
    "    for image_size in image_sizes:\n",
    "        print('    ' + str(image_size[0]) + 'w:  '+ filename.split('.')[0]+'_'+str(image_size[0])+'.'+'png')\n"
   ]
  },
  {
   "cell_type": "code",
   "execution_count": 2,
   "id": "9cb8eac6",
   "metadata": {},
   "outputs": [
    {
     "name": "stdout",
     "output_type": "stream",
     "text": [
      "image:\n",
      "  path:  /fav/android-chrome-512x512.png\n",
      "  srcset:\n",
      "    72w:  /fav/android-chrome-512x512_72.png\n",
      "    96w:  /fav/android-chrome-512x512_96.png\n",
      "    128w:  /fav/android-chrome-512x512_128.png\n",
      "    144w:  /fav/android-chrome-512x512_144.png\n",
      "    152w:  /fav/android-chrome-512x512_152.png\n",
      "    192w:  /fav/android-chrome-512x512_192.png\n",
      "    384w:  /fav/android-chrome-512x512_384.png\n",
      "    512w:  /fav/android-chrome-512x512_512.png\n"
     ]
    }
   ],
   "source": [
    "blog_directory = '/Users/jhoons/Blog/myblog'\n",
    "image_file = '/assets/img/posts/from_tistory/006.jpg'\n",
    "# blog_directory = '/Users/jhoons/Desktop/'\n",
    "# image_file = '/fav/android-chrome-512x512.png'\n",
    "\n",
    "inblog_directory = '/'.join(image_file.split('/')[:-1])+'/'\n",
    "image_file_ext = image_file.split('/')[-1]\n",
    "working_directory = blog_directory + inblog_directory\n",
    "\n",
    "\n",
    "image_file = image_file_ext.split('.')[0]\n",
    "image_ext = image_file_ext.split('.')[1]\n",
    "image_path = p.join(working_directory, image_file_ext)\n",
    "\n",
    "Size = []\n",
    "HWratio = 374/655\n",
    "# HWratio = 1.0\n",
    "resList = [500,1000,1500]\n",
    "# resList = [72,96,128,144,152,192,384,512]\n",
    "\n",
    "for i in resList:\n",
    "    Size += [(int(i),int(i*HWratio))]\n",
    "    \n",
    "for size in Size:\n",
    "    image1 = Image.open(image_path)\n",
    "    if image1.size[0]<size[0] and image1.size[1]<size[1]:\n",
    "        fit_to_width = (image1.size[0]/size[0] > image1.size[1]/size[1])\n",
    "        if fit_to_width == True:\n",
    "            image1  =image1.resize((int(size[0]),int(image1.size[1]*(size[0]/image1.size[0]))),Image.ANTIALIAS)\n",
    "        else:\n",
    "            image1  =image1.resize((int(image1.size[0]*(size[1]/image1.size[1])),int(size[1])),Image.ANTIALIAS)\n",
    "    \n",
    "    image1.thumbnail(size,Image.ANTIALIAS)\n",
    "    background = Image.new('RGBA', size, (255, 255, 255, 0))\n",
    "    background.paste(\n",
    "        image1, (int((size[0] - image1.size[0]) / 2), int((size[1] - image1.size[1]) / 2))\n",
    "    )\n",
    "    save_file = p.join(working_directory,image_file+'_'+str(size[0])+'.png')\n",
    "    background.save(save_file, quality=85, optimize=True)\n",
    "    background.show()\n",
    "    \n",
    "print_img_script(Size, inblog_directory+image_file_ext)\n"
   ]
  },
  {
   "cell_type": "code",
   "execution_count": null,
   "id": "b67c7ea1",
   "metadata": {},
   "outputs": [],
   "source": []
  }
 ],
 "metadata": {
  "kernelspec": {
   "display_name": "Python 3",
   "language": "python",
   "name": "python3"
  },
  "language_info": {
   "codemirror_mode": {
    "name": "ipython",
    "version": 3
   },
   "file_extension": ".py",
   "mimetype": "text/x-python",
   "name": "python",
   "nbconvert_exporter": "python",
   "pygments_lexer": "ipython3",
   "version": "3.9.4"
  }
 },
 "nbformat": 4,
 "nbformat_minor": 5
}
